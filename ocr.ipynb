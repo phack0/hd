{
 "cells": [
  {
   "cell_type": "code",
   "execution_count": 1,
   "id": "ef44965c",
   "metadata": {},
   "outputs": [],
   "source": [
    "import pandas as pd\n",
    "import numpy as np"
   ]
  },
  {
   "cell_type": "code",
   "execution_count": 2,
   "id": "e9f77c78",
   "metadata": {},
   "outputs": [],
   "source": [
    "df = pd.read_csv(\"letter-recognition.csv\", sep = \",\")\n",
    "df=df.iloc[:,1:]\n",
    "from sklearn.model_selection import train_test_split\n",
    "\n",
    "X = df.iloc[:, 1 : 17]\n",
    "y = df.select_dtypes(include = [object])\n",
    "X_train, X_test, y_train, y_test = train_test_split(X, y, test_size=0.20, random_state=10)"
   ]
  },
  {
   "cell_type": "code",
   "execution_count": 3,
   "id": "749c5885",
   "metadata": {},
   "outputs": [],
   "source": [
    "from sklearn.preprocessing import StandardScaler\n",
    "scaler = StandardScaler()\n",
    "scaler.fit(X_train)\n",
    "X_train = scaler.transform(X_train)\n",
    "X_test = scaler.transform(X_test)"
   ]
  },
  {
   "cell_type": "code",
   "execution_count": 5,
   "id": "905496f7",
   "metadata": {},
   "outputs": [
    {
     "name": "stdout",
     "output_type": "stream",
     "text": [
      "Collecting yellowbrick\n",
      "  Downloading yellowbrick-1.5-py3-none-any.whl (282 kB)\n",
      "\u001b[2K     \u001b[38;2;114;156;31m━━━━━━━━━━━━━━━━━━━━━━━━━━━━━━━━━━━━━━━\u001b[0m \u001b[32m282.6/282.6 kB\u001b[0m \u001b[31m1.5 MB/s\u001b[0m eta \u001b[36m0:00:00\u001b[0m[36m0:00:01\u001b[0m[36m0:00:01\u001b[0m:01\u001b[0m\n",
      "\u001b[?25hRequirement already satisfied: scikit-learn>=1.0.0 in /home/ksr/anaconda3/lib/python3.10/site-packages (from yellowbrick) (1.2.1)\n",
      "Requirement already satisfied: scipy>=1.0.0 in /home/ksr/anaconda3/lib/python3.10/site-packages (from yellowbrick) (1.10.0)\n",
      "Requirement already satisfied: matplotlib!=3.0.0,>=2.0.2 in /home/ksr/anaconda3/lib/python3.10/site-packages (from yellowbrick) (3.7.0)\n",
      "Requirement already satisfied: numpy>=1.16.0 in /home/ksr/anaconda3/lib/python3.10/site-packages (from yellowbrick) (1.23.5)\n",
      "Requirement already satisfied: cycler>=0.10.0 in /home/ksr/anaconda3/lib/python3.10/site-packages (from yellowbrick) (0.11.0)\n",
      "Requirement already satisfied: pillow>=6.2.0 in /home/ksr/anaconda3/lib/python3.10/site-packages (from matplotlib!=3.0.0,>=2.0.2->yellowbrick) (9.4.0)\n",
      "Requirement already satisfied: pyparsing>=2.3.1 in /home/ksr/anaconda3/lib/python3.10/site-packages (from matplotlib!=3.0.0,>=2.0.2->yellowbrick) (3.0.9)\n",
      "Requirement already satisfied: kiwisolver>=1.0.1 in /home/ksr/anaconda3/lib/python3.10/site-packages (from matplotlib!=3.0.0,>=2.0.2->yellowbrick) (1.4.4)\n",
      "Requirement already satisfied: fonttools>=4.22.0 in /home/ksr/anaconda3/lib/python3.10/site-packages (from matplotlib!=3.0.0,>=2.0.2->yellowbrick) (4.25.0)\n",
      "Requirement already satisfied: contourpy>=1.0.1 in /home/ksr/anaconda3/lib/python3.10/site-packages (from matplotlib!=3.0.0,>=2.0.2->yellowbrick) (1.0.5)\n",
      "Requirement already satisfied: packaging>=20.0 in /home/ksr/anaconda3/lib/python3.10/site-packages (from matplotlib!=3.0.0,>=2.0.2->yellowbrick) (22.0)\n",
      "Requirement already satisfied: python-dateutil>=2.7 in /home/ksr/anaconda3/lib/python3.10/site-packages (from matplotlib!=3.0.0,>=2.0.2->yellowbrick) (2.8.2)\n",
      "Requirement already satisfied: threadpoolctl>=2.0.0 in /home/ksr/anaconda3/lib/python3.10/site-packages (from scikit-learn>=1.0.0->yellowbrick) (2.2.0)\n",
      "Requirement already satisfied: joblib>=1.1.1 in /home/ksr/anaconda3/lib/python3.10/site-packages (from scikit-learn>=1.0.0->yellowbrick) (1.1.1)\n",
      "Requirement already satisfied: six>=1.5 in /home/ksr/anaconda3/lib/python3.10/site-packages (from python-dateutil>=2.7->matplotlib!=3.0.0,>=2.0.2->yellowbrick) (1.16.0)\n",
      "Installing collected packages: yellowbrick\n",
      "Successfully installed yellowbrick-1.5\n"
     ]
    }
   ],
   "source": [
    "!pip install yellowbrick"
   ]
  },
  {
   "cell_type": "code",
   "execution_count": 6,
   "id": "05a1aa04",
   "metadata": {},
   "outputs": [],
   "source": [
    "#!pip install yellowbrick\n",
    "from sklearn.neural_network import MLPClassifier\n",
    "from sklearn.metrics import accuracy_score\n",
    "from yellowbrick.classifier import ConfusionMatrix"
   ]
  },
  {
   "cell_type": "code",
   "execution_count": 7,
   "id": "2cd7a3bc",
   "metadata": {},
   "outputs": [],
   "source": [
    "mlp = MLPClassifier(hidden_layer_sizes = (250, 300), max_iter = 1000000, activation = 'logistic')"
   ]
  },
  {
   "cell_type": "code",
   "execution_count": 8,
   "id": "7185a0f5",
   "metadata": {},
   "outputs": [],
   "source": [
    "cm = ConfusionMatrix(mlp, classes=\"A,B,C,D,E,F,G,H,I,J,K,L,M,N,O,P,Q,R,S,T,U,V,W,X,Y,Z\".split(','))"
   ]
  },
  {
   "cell_type": "code",
   "execution_count": 9,
   "id": "cce2bea5",
   "metadata": {},
   "outputs": [
    {
     "data": {
      "text/html": [
       "<style>#sk-container-id-1 {color: black;background-color: white;}#sk-container-id-1 pre{padding: 0;}#sk-container-id-1 div.sk-toggleable {background-color: white;}#sk-container-id-1 label.sk-toggleable__label {cursor: pointer;display: block;width: 100%;margin-bottom: 0;padding: 0.3em;box-sizing: border-box;text-align: center;}#sk-container-id-1 label.sk-toggleable__label-arrow:before {content: \"▸\";float: left;margin-right: 0.25em;color: #696969;}#sk-container-id-1 label.sk-toggleable__label-arrow:hover:before {color: black;}#sk-container-id-1 div.sk-estimator:hover label.sk-toggleable__label-arrow:before {color: black;}#sk-container-id-1 div.sk-toggleable__content {max-height: 0;max-width: 0;overflow: hidden;text-align: left;background-color: #f0f8ff;}#sk-container-id-1 div.sk-toggleable__content pre {margin: 0.2em;color: black;border-radius: 0.25em;background-color: #f0f8ff;}#sk-container-id-1 input.sk-toggleable__control:checked~div.sk-toggleable__content {max-height: 200px;max-width: 100%;overflow: auto;}#sk-container-id-1 input.sk-toggleable__control:checked~label.sk-toggleable__label-arrow:before {content: \"▾\";}#sk-container-id-1 div.sk-estimator input.sk-toggleable__control:checked~label.sk-toggleable__label {background-color: #d4ebff;}#sk-container-id-1 div.sk-label input.sk-toggleable__control:checked~label.sk-toggleable__label {background-color: #d4ebff;}#sk-container-id-1 input.sk-hidden--visually {border: 0;clip: rect(1px 1px 1px 1px);clip: rect(1px, 1px, 1px, 1px);height: 1px;margin: -1px;overflow: hidden;padding: 0;position: absolute;width: 1px;}#sk-container-id-1 div.sk-estimator {font-family: monospace;background-color: #f0f8ff;border: 1px dotted black;border-radius: 0.25em;box-sizing: border-box;margin-bottom: 0.5em;}#sk-container-id-1 div.sk-estimator:hover {background-color: #d4ebff;}#sk-container-id-1 div.sk-parallel-item::after {content: \"\";width: 100%;border-bottom: 1px solid gray;flex-grow: 1;}#sk-container-id-1 div.sk-label:hover label.sk-toggleable__label {background-color: #d4ebff;}#sk-container-id-1 div.sk-serial::before {content: \"\";position: absolute;border-left: 1px solid gray;box-sizing: border-box;top: 0;bottom: 0;left: 50%;z-index: 0;}#sk-container-id-1 div.sk-serial {display: flex;flex-direction: column;align-items: center;background-color: white;padding-right: 0.2em;padding-left: 0.2em;position: relative;}#sk-container-id-1 div.sk-item {position: relative;z-index: 1;}#sk-container-id-1 div.sk-parallel {display: flex;align-items: stretch;justify-content: center;background-color: white;position: relative;}#sk-container-id-1 div.sk-item::before, #sk-container-id-1 div.sk-parallel-item::before {content: \"\";position: absolute;border-left: 1px solid gray;box-sizing: border-box;top: 0;bottom: 0;left: 50%;z-index: -1;}#sk-container-id-1 div.sk-parallel-item {display: flex;flex-direction: column;z-index: 1;position: relative;background-color: white;}#sk-container-id-1 div.sk-parallel-item:first-child::after {align-self: flex-end;width: 50%;}#sk-container-id-1 div.sk-parallel-item:last-child::after {align-self: flex-start;width: 50%;}#sk-container-id-1 div.sk-parallel-item:only-child::after {width: 0;}#sk-container-id-1 div.sk-dashed-wrapped {border: 1px dashed gray;margin: 0 0.4em 0.5em 0.4em;box-sizing: border-box;padding-bottom: 0.4em;background-color: white;}#sk-container-id-1 div.sk-label label {font-family: monospace;font-weight: bold;display: inline-block;line-height: 1.2em;}#sk-container-id-1 div.sk-label-container {text-align: center;}#sk-container-id-1 div.sk-container {/* jupyter's `normalize.less` sets `[hidden] { display: none; }` but bootstrap.min.css set `[hidden] { display: none !important; }` so we also need the `!important` here to be able to override the default hidden behavior on the sphinx rendered scikit-learn.org. See: https://github.com/scikit-learn/scikit-learn/issues/21755 */display: inline-block !important;position: relative;}#sk-container-id-1 div.sk-text-repr-fallback {display: none;}</style><div id=\"sk-container-id-1\" class=\"sk-top-container\"><div class=\"sk-text-repr-fallback\"><pre>ConfusionMatrix(ax=&lt;Axes: &gt;,\n",
       "                classes=[&#x27;A&#x27;, &#x27;B&#x27;, &#x27;C&#x27;, &#x27;D&#x27;, &#x27;E&#x27;, &#x27;F&#x27;, &#x27;G&#x27;, &#x27;H&#x27;, &#x27;I&#x27;, &#x27;J&#x27;, &#x27;K&#x27;,\n",
       "                         &#x27;L&#x27;, &#x27;M&#x27;, &#x27;N&#x27;, &#x27;O&#x27;, &#x27;P&#x27;, &#x27;Q&#x27;, &#x27;R&#x27;, &#x27;S&#x27;, &#x27;T&#x27;, &#x27;U&#x27;, &#x27;V&#x27;,\n",
       "                         &#x27;W&#x27;, &#x27;X&#x27;, &#x27;Y&#x27;, &#x27;Z&#x27;],\n",
       "                cmap=&lt;matplotlib.colors.ListedColormap object at 0x7ff563986da0&gt;,\n",
       "                estimator=MLPClassifier(activation=&#x27;logistic&#x27;,\n",
       "                                        hidden_layer_sizes=(250, 300),\n",
       "                                        max_iter=1000000))</pre><b>In a Jupyter environment, please rerun this cell to show the HTML representation or trust the notebook. <br />On GitHub, the HTML representation is unable to render, please try loading this page with nbviewer.org.</b></div><div class=\"sk-container\" hidden><div class=\"sk-item sk-dashed-wrapped\"><div class=\"sk-label-container\"><div class=\"sk-label sk-toggleable\"><input class=\"sk-toggleable__control sk-hidden--visually\" id=\"sk-estimator-id-1\" type=\"checkbox\" ><label for=\"sk-estimator-id-1\" class=\"sk-toggleable__label sk-toggleable__label-arrow\">ConfusionMatrix</label><div class=\"sk-toggleable__content\"><pre>ConfusionMatrix(ax=&lt;Axes: &gt;,\n",
       "                classes=[&#x27;A&#x27;, &#x27;B&#x27;, &#x27;C&#x27;, &#x27;D&#x27;, &#x27;E&#x27;, &#x27;F&#x27;, &#x27;G&#x27;, &#x27;H&#x27;, &#x27;I&#x27;, &#x27;J&#x27;, &#x27;K&#x27;,\n",
       "                         &#x27;L&#x27;, &#x27;M&#x27;, &#x27;N&#x27;, &#x27;O&#x27;, &#x27;P&#x27;, &#x27;Q&#x27;, &#x27;R&#x27;, &#x27;S&#x27;, &#x27;T&#x27;, &#x27;U&#x27;, &#x27;V&#x27;,\n",
       "                         &#x27;W&#x27;, &#x27;X&#x27;, &#x27;Y&#x27;, &#x27;Z&#x27;],\n",
       "                cmap=&lt;matplotlib.colors.ListedColormap object at 0x7ff563986da0&gt;,\n",
       "                estimator=MLPClassifier(activation=&#x27;logistic&#x27;,\n",
       "                                        hidden_layer_sizes=(250, 300),\n",
       "                                        max_iter=1000000))</pre></div></div></div><div class=\"sk-parallel\"><div class=\"sk-parallel-item\"><div class=\"sk-item\"><div class=\"sk-label-container\"><div class=\"sk-label sk-toggleable\"><input class=\"sk-toggleable__control sk-hidden--visually\" id=\"sk-estimator-id-2\" type=\"checkbox\" ><label for=\"sk-estimator-id-2\" class=\"sk-toggleable__label sk-toggleable__label-arrow\">estimator: MLPClassifier</label><div class=\"sk-toggleable__content\"><pre>MLPClassifier(activation=&#x27;logistic&#x27;, hidden_layer_sizes=(250, 300),\n",
       "              max_iter=1000000)</pre></div></div></div><div class=\"sk-serial\"><div class=\"sk-item\"><div class=\"sk-estimator sk-toggleable\"><input class=\"sk-toggleable__control sk-hidden--visually\" id=\"sk-estimator-id-3\" type=\"checkbox\" ><label for=\"sk-estimator-id-3\" class=\"sk-toggleable__label sk-toggleable__label-arrow\">MLPClassifier</label><div class=\"sk-toggleable__content\"><pre>MLPClassifier(activation=&#x27;logistic&#x27;, hidden_layer_sizes=(250, 300),\n",
       "              max_iter=1000000)</pre></div></div></div></div></div></div></div></div></div></div>"
      ],
      "text/plain": [
       "ConfusionMatrix(ax=<Axes: >,\n",
       "                classes=['A', 'B', 'C', 'D', 'E', 'F', 'G', 'H', 'I', 'J', 'K',\n",
       "                         'L', 'M', 'N', 'O', 'P', 'Q', 'R', 'S', 'T', 'U', 'V',\n",
       "                         'W', 'X', 'Y', 'Z'],\n",
       "                cmap=<matplotlib.colors.ListedColormap object at 0x7ff563986da0>,\n",
       "                estimator=MLPClassifier(activation='logistic',\n",
       "                                        hidden_layer_sizes=(250, 300),\n",
       "                                        max_iter=1000000))"
      ]
     },
     "execution_count": 9,
     "metadata": {},
     "output_type": "execute_result"
    },
    {
     "data": {
      "image/png": "[encoded data removed]",
      "text/plain": [
       "<Figure size 800x550 with 1 Axes>"
      ]
     },
     "metadata": {},
     "output_type": "display_data"
    }
   ],
   "source": [
    "cm.fit(X_train, y_train.values.ravel())"
   ]
  },
  {
   "cell_type": "code",
   "execution_count": 10,
   "id": "960e57f9",
   "metadata": {},
   "outputs": [
    {
     "name": "stderr",
     "output_type": "stream",
     "text": [
      "/home/ksr/anaconda3/lib/python3.10/site-packages/sklearn/preprocessing/_label.py:116: DataConversionWarning: A column-vector y was passed when a 1d array was expected. Please change the shape of y to (n_samples, ), for example using ravel().\n",
      "  y = column_or_1d(y, warn=True)\n"
     ]
    },
    {
     "data": {
      "text/plain": [
       "0.9025"
      ]
     },
     "execution_count": 10,
     "metadata": {},
     "output_type": "execute_result"
    }
   ],
   "source": [
    "cm.score(X_test, y_test)"
   ]
  },
  {
   "cell_type": "code",
   "execution_count": 11,
   "id": "cdd650d0",
   "metadata": {},
   "outputs": [
    {
     "name": "stdout",
     "output_type": "stream",
     "text": [
      "['C' 'F' 'Q' 'T' 'L' 'G' 'L' 'A' 'P' 'E' 'W' 'Q' 'S' 'G' 'U' 'B' 'S' 'A'\n",
      " 'N' 'T' 'D' 'L' 'Z' 'D' 'O' 'J' 'C' 'H' 'G' 'C' 'H' 'W' 'D' 'O' 'J' 'O'\n",
      " 'H' 'Z' 'P' 'N' 'G' 'X' 'O' 'G' 'O' 'D' 'M' 'I' 'V' 'Y' 'Y' 'U' 'D' 'U'\n",
      " 'V' 'V' 'U' 'H' 'Q' 'E' 'M' 'F' 'B' 'P' 'I' 'F' 'G' 'D' 'D' 'C' 'H' 'O'\n",
      " 'X' 'O' 'P' 'Z' 'N' 'Q' 'K' 'M' 'Y' 'T' 'X' 'O' 'R' 'Y' 'V' 'Z' 'Y' 'W'\n",
      " 'T' 'N' 'I' 'Z' 'W' 'A' 'B' 'G' 'D' 'L' 'V' 'C' 'B' 'Z' 'C' 'U' 'I' 'U'\n",
      " 'V' 'Q' 'M' 'N' 'F' 'M' 'M' 'D' 'E' 'N' 'Y' 'D' 'L' 'C' 'E' 'Q' 'E' 'O'\n",
      " 'O' 'M' 'L' 'A' 'C' 'O' 'F' 'J' 'V' 'G' 'J' 'U' 'K' 'V' 'E' 'M' 'L' 'Q'\n",
      " 'U' 'V' 'W' 'Y' 'V' 'T' 'B' 'Z' 'L' 'B' 'X' 'Y' 'F' 'G' 'J' 'B' 'H' 'E'\n",
      " 'N' 'R' 'A' 'H' 'Z' 'B' 'F' 'A' 'D' 'D' 'F' 'K' 'E' 'L' 'K' 'K' 'H' 'M'\n",
      " 'E' 'N' 'P' 'H' 'M' 'F' 'F' 'W' 'Z' 'N' 'M' 'P' 'T' 'A' 'F' 'H' 'W' 'O'\n",
      " 'C' 'T' 'N' 'C' 'Q' 'E' 'G' 'T' 'J' 'B' 'Q' 'O' 'S' 'I' 'W' 'J' 'K' 'W'\n",
      " 'O' 'J' 'L' 'K' 'G' 'A' 'X' 'W' 'V' 'X' 'Z' 'H' 'D' 'I' 'S' 'C' 'N' 'D'\n",
      " 'Z' 'M' 'B' 'F' 'H' 'C' 'I' 'O' 'P' 'Y' 'S' 'M' 'L' 'B' 'L' 'M' 'A' 'D'\n",
      " 'W' 'G' 'C' 'M' 'L' 'N' 'H' 'Z' 'D' 'R' 'X' 'C' 'S' 'S' 'B' 'X' 'L' 'V'\n",
      " 'Q' 'P' 'M' 'Z' 'Z' 'U' 'J' 'N' 'T' 'Q' 'S' 'D' 'M' 'R' 'N' 'U' 'X' 'V'\n",
      " 'L' 'Z' 'D' 'T' 'G' 'Q' 'D' 'Y' 'Q' 'T' 'I' 'H' 'S' 'F' 'B' 'A' 'S' 'D'\n",
      " 'R' 'G' 'M' 'C' 'J' 'M' 'J' 'P' 'X' 'J' 'D' 'N' 'W' 'M' 'S' 'Q' 'G' 'E'\n",
      " 'T' 'A' 'D' 'T' 'N' 'C' 'K' 'L' 'B' 'P' 'F' 'A' 'Y' 'O' 'Z' 'D' 'B' 'Y'\n",
      " 'X' 'D' 'G' 'H' 'B' 'Q' 'K' 'T' 'F' 'D' 'N' 'Z' 'O' 'I' 'Z' 'H' 'F' 'P'\n",
      " 'K' 'A' 'P' 'O' 'S' 'F' 'S' 'B' 'V' 'J' 'H' 'D' 'I' 'H' 'P' 'R' 'I' 'O'\n",
      " 'Z' 'R' 'L' 'R' 'S' 'E' 'S' 'M' 'E' 'I' 'E' 'Y' 'O' 'T' 'B' 'G' 'L' 'J'\n",
      " 'I' 'Q' 'G' 'I']\n"
     ]
    }
   ],
   "source": [
    "predictions = cm.predict(X_test)\n",
    "print(predictions)"
   ]
  },
  {
   "cell_type": "code",
   "execution_count": 12,
   "id": "1f2f00d7",
   "metadata": {},
   "outputs": [
    {
     "name": "stdout",
     "output_type": "stream",
     "text": [
      "Accuracy:  0.9025\n"
     ]
    }
   ],
   "source": [
    "print(\"Accuracy: \", accuracy_score(y_test, predictions))"
   ]
  },
  {
   "cell_type": "code",
   "execution_count": 13,
   "id": "8f3e3d08",
   "metadata": {},
   "outputs": [
    {
     "name": "stdout",
     "output_type": "stream",
     "text": [
      "              precision    recall  f1-score   support\n",
      "\n",
      "           A    0.92308   0.92308   0.92308        13\n",
      "           B    0.88889   0.94118   0.91429        17\n",
      "           C    1.00000   0.88889   0.94118        18\n",
      "           D    0.96154   0.86207   0.90909        29\n",
      "           E    1.00000   0.77778   0.87500        18\n",
      "           F    0.82353   0.87500   0.84848        16\n",
      "           G    0.83333   0.88235   0.85714        17\n",
      "           H    0.77778   0.82353   0.80000        17\n",
      "           I    0.92857   0.92857   0.92857        14\n",
      "           J    0.92857   0.92857   0.92857        14\n",
      "           K    0.80000   1.00000   0.88889         8\n",
      "           L    1.00000   1.00000   1.00000        18\n",
      "           M    0.95238   1.00000   0.97561        20\n",
      "           N    0.88235   0.93750   0.90909        16\n",
      "           O    0.90000   0.85714   0.87805        21\n",
      "           P    0.92308   1.00000   0.96000        12\n",
      "           Q    0.93750   0.88235   0.90909        17\n",
      "           R    0.87500   1.00000   0.93333         7\n",
      "           S    0.86667   0.76471   0.81250        17\n",
      "           T    1.00000   1.00000   1.00000        15\n",
      "           U    0.80000   1.00000   0.88889         8\n",
      "           V    0.85714   0.92308   0.88889        13\n",
      "           W    1.00000   0.80000   0.88889        15\n",
      "           X    0.81818   0.81818   0.81818        11\n",
      "           Y    0.84615   1.00000   0.91667        11\n",
      "           Z    0.84211   0.88889   0.86486        18\n",
      "\n",
      "    accuracy                        0.90250       400\n",
      "   macro avg    0.89869   0.91165   0.90224       400\n",
      "weighted avg    0.90727   0.90250   0.90231       400\n",
      "\n"
     ]
    }
   ],
   "source": [
    "from sklearn.metrics import classification_report\n",
    "print(classification_report(y_test, predictions, digits=5))"
   ]
  },
  {
   "cell_type": "code",
   "execution_count": null,
   "id": "000ea311",
   "metadata": {},
   "outputs": [],
   "source": []
  }
 ],
 "metadata": {
  "kernelspec": {
   "display_name": "Python 3 (ipykernel)",
   "language": "python",
   "name": "python3"
  },
  "language_info": {
   "codemirror_mode": {
    "name": "ipython",
    "version": 3
   },
   "file_extension": ".py",
   "mimetype": "text/x-python",
   "name": "python",
   "nbconvert_exporter": "python",
   "pygments_lexer": "ipython3",
   "version": "3.10.9"
  }
 },
 "nbformat": 4,
 "nbformat_minor": 5
}
